{
 "cells": [
  {
   "cell_type": "code",
   "execution_count": 7,
   "metadata": {},
   "outputs": [],
   "source": [
    "#Estrutura de repetição - for \n"
   ]
  },
  {
   "cell_type": "code",
   "execution_count": 6,
   "metadata": {},
   "outputs": [
    {
     "name": "stdout",
     "output_type": "stream",
     "text": [
      "estamos no elemento 1\n",
      "estamos no elemento 2\n",
      "estamos no elemento 3\n",
      "estamos no elemento 4\n",
      "estamos no elemento 5\n",
      "estamos no elemento 6\n"
     ]
    }
   ],
   "source": [
    "for elemento in [1, 2, 3, 4, 5, 6]:\n",
    "    print('estamos no elemento', elemento)"
   ]
  },
  {
   "cell_type": "code",
   "execution_count": 2,
   "metadata": {},
   "outputs": [
    {
     "name": "stdout",
     "output_type": "stream",
     "text": [
      "estamos no elemento S\n",
      "estamos no elemento T\n",
      "estamos no elemento R\n",
      "estamos no elemento I\n",
      "estamos no elemento N\n",
      "estamos no elemento G\n"
     ]
    }
   ],
   "source": [
    "for elemento in 'STRING':\n",
    "    print('estamos no elemento', elemento)"
   ]
  },
  {
   "cell_type": "code",
   "execution_count": 3,
   "metadata": {},
   "outputs": [
    {
     "name": "stdout",
     "output_type": "stream",
     "text": [
      "elemento 0\n",
      "elemento 1\n",
      "elemento 2\n",
      "elemento 3\n",
      "elemento 4\n",
      "elemento 5\n"
     ]
    }
   ],
   "source": [
    "for elemento in range(len(\"STRING\")):\n",
    "    print('elemento', elemento)"
   ]
  },
  {
   "cell_type": "code",
   "execution_count": 8,
   "metadata": {},
   "outputs": [
    {
     "name": "stdout",
     "output_type": "stream",
     "text": [
      "Estamos no elemento 0\n",
      "Estamos no elemento 1\n",
      "Estamos no elemento 2\n",
      "Estamos no elemento 3\n",
      "Estamos no elemento 4\n",
      "Estamos no elemento 5\n",
      "Estamos no elemento 6\n"
     ]
    }
   ],
   "source": [
    "produto = 0\n",
    "while produto <= len([1, 2, 3, 4, 5, 6]):\n",
    "    print('Estamos no elemento', produto)\n",
    "    produto +=1"
   ]
  },
  {
   "cell_type": "code",
   "execution_count": 5,
   "metadata": {},
   "outputs": [
    {
     "name": "stdout",
     "output_type": "stream",
     "text": [
      "Estamos no elemento 0\n",
      "Estamos no elemento 1\n",
      "Estamos no elemento 2\n",
      "Estamos no elemento 3\n",
      "Estamos no elemento 4\n",
      "Estamos no elemento 5\n",
      "Estamos no elemento 6\n"
     ]
    }
   ],
   "source": [
    "elemento = 0\n",
    "while elemento <= len([1, 2, 3, 4, 5, 6]):\n",
    "    print('Estamos no elemento', elemento)\n",
    "    elemento +=1"
   ]
  },
  {
   "cell_type": "code",
   "execution_count": 4,
   "metadata": {},
   "outputs": [
    {
     "name": "stdout",
     "output_type": "stream",
     "text": [
      "estamos no elemento S\n",
      "estamos no elemento T\n",
      "estamos no elemento R\n",
      "estamos no elemento I\n",
      "estamos no elemento N\n",
      "estamos no elemento G\n"
     ]
    }
   ],
   "source": [
    "s= 'STRING'\n",
    "indice = 0\n",
    "\n",
    "while indice in range (len (s)):\n",
    "    print('estamos no elemento', s[indice])\n",
    "    indice +=1"
   ]
  },
  {
   "cell_type": "code",
   "execution_count": 7,
   "metadata": {},
   "outputs": [
    {
     "name": "stdout",
     "output_type": "stream",
     "text": [
      "0 T\n",
      "1 R\n",
      "2 A\n",
      "3 N\n",
      "4 Q\n",
      "5 U\n",
      "6 I\n",
      "7 L\n",
      "8 O\n"
     ]
    }
   ],
   "source": [
    "#função enumerate()\n",
    "\n",
    "palavra='TRANQUILO'\n",
    "for indice, letra in enumerate(palavra):\n",
    "    print(indice, letra)"
   ]
  },
  {
   "cell_type": "code",
   "execution_count": 10,
   "metadata": {},
   "outputs": [
    {
     "name": "stdout",
     "output_type": "stream",
     "text": [
      "Tipo:  <class 'enumerate'>\n",
      "[(0, 'eat'), (1, 'sleep'), (2, 'repeat')]\n",
      "[(2, 'g'), (3, 'e'), (4, 'e'), (5, 'k')]\n"
     ]
    }
   ],
   "source": [
    "lista = ['eat', 'sleep', 'repeat']\n",
    "palavra = 'geek'\n",
    "objeto1= enumerate(lista)\n",
    "objeto2= enumerate(palavra)\n",
    "\n",
    "print(\"Tipo: \", type(objeto1))\n",
    "print(list(enumerate(lista)))\n",
    "print(list(enumerate(palavra, 2)))\n"
   ]
  },
  {
   "cell_type": "code",
   "execution_count": 12,
   "metadata": {},
   "outputs": [
    {
     "name": "stdout",
     "output_type": "stream",
     "text": [
      "Oi\n",
      "Oi\n",
      "Oi\n",
      "Oi\n",
      "Oi\n",
      "Oi\n",
      "Oi\n",
      "Oi\n",
      "Oi\n",
      "Oi\n",
      "Oi\n",
      "Oi\n",
      "Oi\n"
     ]
    }
   ],
   "source": [
    "s = \"viva o python\"\n",
    "for cerejeira in s: #ch forma que tô chamando minha variável\n",
    "    print ('Oi') #o espaço é um caractere"
   ]
  },
  {
   "cell_type": "code",
   "execution_count": 13,
   "metadata": {},
   "outputs": [
    {
     "name": "stdout",
     "output_type": "stream",
     "text": [
      "Oi\n",
      "Oi\n",
      "Oi\n",
      "Oi\n",
      "Oi\n"
     ]
    }
   ],
   "source": [
    "s = \"viva o python\" #[] fatiamento\n",
    "for pokemon in s[3:8]: #ch forma que tô chamando minha variável\n",
    "    print ('Oi')"
   ]
  },
  {
   "cell_type": "code",
   "execution_count": 19,
   "metadata": {},
   "outputs": [
    {
     "name": "stdout",
     "output_type": "stream",
     "text": [
      "estamos no elemento 1\n",
      "estamos no elemento 2\n",
      "estamos no elemento 3\n",
      "estamos no elemento 4\n",
      "estamos no elemento 5\n",
      "estamos no elemento 6\n",
      "estamos no elemento 7\n",
      "estamos no elemento 8\n",
      "estamos no elemento 9\n",
      "estamos no elemento 10\n"
     ]
    }
   ],
   "source": [
    "#Desafio\n",
    "\n",
    "#Pedir 10 números\n",
    "\n",
    "for elemento in [1, 2, 3, 4, 5, 6,7,8,9,10]:\n",
    "    print('estamos no elemento', elemento)\n"
   ]
  },
  {
   "cell_type": "code",
   "execution_count": null,
   "metadata": {},
   "outputs": [],
   "source": [
    "#calcular e mostrar a quantidade de números pares e números ímpares\n"
   ]
  },
  {
   "cell_type": "code",
   "execution_count": 17,
   "metadata": {},
   "outputs": [
    {
     "name": "stdout",
     "output_type": "stream",
     "text": [
      "10 É par\n"
     ]
    }
   ],
   "source": [
    "if elemento % 2 == 0:\n",
    "    print(elemento, 'É par' )\n",
    "else: \n",
    "    print(elemento, 'É impar')\n",
    "    "
   ]
  },
  {
   "cell_type": "code",
   "execution_count": null,
   "metadata": {},
   "outputs": [],
   "source": [
    "#Desafio de algoritmo\n",
    "pares = 0\n",
    "impares = 0\n",
    "\n",
    "for numero in range(0, 10):\n",
    "    numero = int(input(\"Digite um número inteiro: \"))\n",
    "    if numero % 2 == 0:\n",
    "        pares += 1\n",
    "    else:\n",
    "        impares += 1\n",
    "print(\"Quantidade de números pares é \", pares)\n",
    "print(\"Quantidade de números impares é \", impares)"
   ]
  }
 ],
 "metadata": {
  "kernelspec": {
   "display_name": "Python 3",
   "language": "python",
   "name": "python3"
  },
  "language_info": {
   "codemirror_mode": {
    "name": "ipython",
    "version": 3
   },
   "file_extension": ".py",
   "mimetype": "text/x-python",
   "name": "python",
   "nbconvert_exporter": "python",
   "pygments_lexer": "ipython3",
   "version": "3.11.4"
  }
 },
 "nbformat": 4,
 "nbformat_minor": 2
}
